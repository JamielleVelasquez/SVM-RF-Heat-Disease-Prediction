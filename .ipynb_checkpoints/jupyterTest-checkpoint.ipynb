{
 "cells": [
  {
   "cell_type": "code",
   "execution_count": 11,
   "metadata": {},
   "outputs": [
    {
     "ename": "AttributeError",
     "evalue": "'SeriesGroupBy' object has no attribute 'index'",
     "output_type": "error",
     "traceback": [
      "\u001b[1;31m---------------------------------------------------------------------------\u001b[0m",
      "\u001b[1;31mAttributeError\u001b[0m                            Traceback (most recent call last)",
      "Input \u001b[1;32mIn [11]\u001b[0m, in \u001b[0;36m<cell line: 22>\u001b[1;34m()\u001b[0m\n\u001b[0;32m     20\u001b[0m unprocessed_data_X \u001b[38;5;241m=\u001b[39m pd\u001b[38;5;241m.\u001b[39mread_csv(\u001b[38;5;124m\"\u001b[39m\u001b[38;5;124mheartdisease300.csv\u001b[39m\u001b[38;5;124m\"\u001b[39m)\n\u001b[0;32m     21\u001b[0m unprocessed_data_y \u001b[38;5;241m=\u001b[39m unprocessed_data_X\u001b[38;5;241m.\u001b[39mloc[:, \u001b[38;5;124m\"\u001b[39m\u001b[38;5;124mtarget\u001b[39m\u001b[38;5;124m\"\u001b[39m]\n\u001b[1;32m---> 22\u001b[0m \u001b[43munprocessed_data_X\u001b[49m\u001b[38;5;241;43m.\u001b[39;49m\u001b[43mpivot_table\u001b[49m\u001b[43m(\u001b[49m\u001b[43mindex\u001b[49m\u001b[38;5;241;43m=\u001b[39;49m\u001b[38;5;124;43m'\u001b[39;49m\u001b[38;5;124;43mtarget\u001b[39;49m\u001b[38;5;124;43m'\u001b[39;49m\u001b[43m,\u001b[49m\u001b[43m \u001b[49m\u001b[43maggfunc\u001b[49m\u001b[38;5;241;43m=\u001b[39;49m\u001b[38;5;124;43m'\u001b[39;49m\u001b[38;5;124;43mage\u001b[39;49m\u001b[38;5;124;43m'\u001b[39;49m\u001b[43m)\u001b[49m\u001b[38;5;241m.\u001b[39mplot(kind\u001b[38;5;241m=\u001b[39m\u001b[38;5;124m'\u001b[39m\u001b[38;5;124mbar\u001b[39m\u001b[38;5;124m'\u001b[39m)\n",
      "File \u001b[1;32m~\\anaconda3\\lib\\site-packages\\pandas\\core\\frame.py:8038\u001b[0m, in \u001b[0;36mDataFrame.pivot_table\u001b[1;34m(self, values, index, columns, aggfunc, fill_value, margins, dropna, margins_name, observed, sort)\u001b[0m\n\u001b[0;32m   8021\u001b[0m \u001b[38;5;129m@Substitution\u001b[39m(\u001b[38;5;124m\"\u001b[39m\u001b[38;5;124m\"\u001b[39m)\n\u001b[0;32m   8022\u001b[0m \u001b[38;5;129m@Appender\u001b[39m(_shared_docs[\u001b[38;5;124m\"\u001b[39m\u001b[38;5;124mpivot_table\u001b[39m\u001b[38;5;124m\"\u001b[39m])\n\u001b[0;32m   8023\u001b[0m \u001b[38;5;28;01mdef\u001b[39;00m \u001b[38;5;21mpivot_table\u001b[39m(\n\u001b[1;32m   (...)\u001b[0m\n\u001b[0;32m   8034\u001b[0m     sort\u001b[38;5;241m=\u001b[39m\u001b[38;5;28;01mTrue\u001b[39;00m,\n\u001b[0;32m   8035\u001b[0m ) \u001b[38;5;241m-\u001b[39m\u001b[38;5;241m>\u001b[39m DataFrame:\n\u001b[0;32m   8036\u001b[0m     \u001b[38;5;28;01mfrom\u001b[39;00m \u001b[38;5;21;01mpandas\u001b[39;00m\u001b[38;5;21;01m.\u001b[39;00m\u001b[38;5;21;01mcore\u001b[39;00m\u001b[38;5;21;01m.\u001b[39;00m\u001b[38;5;21;01mreshape\u001b[39;00m\u001b[38;5;21;01m.\u001b[39;00m\u001b[38;5;21;01mpivot\u001b[39;00m \u001b[38;5;28;01mimport\u001b[39;00m pivot_table\n\u001b[1;32m-> 8038\u001b[0m     \u001b[38;5;28;01mreturn\u001b[39;00m \u001b[43mpivot_table\u001b[49m\u001b[43m(\u001b[49m\n\u001b[0;32m   8039\u001b[0m \u001b[43m        \u001b[49m\u001b[38;5;28;43mself\u001b[39;49m\u001b[43m,\u001b[49m\n\u001b[0;32m   8040\u001b[0m \u001b[43m        \u001b[49m\u001b[43mvalues\u001b[49m\u001b[38;5;241;43m=\u001b[39;49m\u001b[43mvalues\u001b[49m\u001b[43m,\u001b[49m\n\u001b[0;32m   8041\u001b[0m \u001b[43m        \u001b[49m\u001b[43mindex\u001b[49m\u001b[38;5;241;43m=\u001b[39;49m\u001b[43mindex\u001b[49m\u001b[43m,\u001b[49m\n\u001b[0;32m   8042\u001b[0m \u001b[43m        \u001b[49m\u001b[43mcolumns\u001b[49m\u001b[38;5;241;43m=\u001b[39;49m\u001b[43mcolumns\u001b[49m\u001b[43m,\u001b[49m\n\u001b[0;32m   8043\u001b[0m \u001b[43m        \u001b[49m\u001b[43maggfunc\u001b[49m\u001b[38;5;241;43m=\u001b[39;49m\u001b[43maggfunc\u001b[49m\u001b[43m,\u001b[49m\n\u001b[0;32m   8044\u001b[0m \u001b[43m        \u001b[49m\u001b[43mfill_value\u001b[49m\u001b[38;5;241;43m=\u001b[39;49m\u001b[43mfill_value\u001b[49m\u001b[43m,\u001b[49m\n\u001b[0;32m   8045\u001b[0m \u001b[43m        \u001b[49m\u001b[43mmargins\u001b[49m\u001b[38;5;241;43m=\u001b[39;49m\u001b[43mmargins\u001b[49m\u001b[43m,\u001b[49m\n\u001b[0;32m   8046\u001b[0m \u001b[43m        \u001b[49m\u001b[43mdropna\u001b[49m\u001b[38;5;241;43m=\u001b[39;49m\u001b[43mdropna\u001b[49m\u001b[43m,\u001b[49m\n\u001b[0;32m   8047\u001b[0m \u001b[43m        \u001b[49m\u001b[43mmargins_name\u001b[49m\u001b[38;5;241;43m=\u001b[39;49m\u001b[43mmargins_name\u001b[49m\u001b[43m,\u001b[49m\n\u001b[0;32m   8048\u001b[0m \u001b[43m        \u001b[49m\u001b[43mobserved\u001b[49m\u001b[38;5;241;43m=\u001b[39;49m\u001b[43mobserved\u001b[49m\u001b[43m,\u001b[49m\n\u001b[0;32m   8049\u001b[0m \u001b[43m        \u001b[49m\u001b[43msort\u001b[49m\u001b[38;5;241;43m=\u001b[39;49m\u001b[43msort\u001b[49m\u001b[43m,\u001b[49m\n\u001b[0;32m   8050\u001b[0m \u001b[43m    \u001b[49m\u001b[43m)\u001b[49m\n",
      "File \u001b[1;32m~\\anaconda3\\lib\\site-packages\\pandas\\core\\reshape\\pivot.py:95\u001b[0m, in \u001b[0;36mpivot_table\u001b[1;34m(data, values, index, columns, aggfunc, fill_value, margins, dropna, margins_name, observed, sort)\u001b[0m\n\u001b[0;32m     92\u001b[0m     table \u001b[38;5;241m=\u001b[39m concat(pieces, keys\u001b[38;5;241m=\u001b[39mkeys, axis\u001b[38;5;241m=\u001b[39m\u001b[38;5;241m1\u001b[39m)\n\u001b[0;32m     93\u001b[0m     \u001b[38;5;28;01mreturn\u001b[39;00m table\u001b[38;5;241m.\u001b[39m__finalize__(data, method\u001b[38;5;241m=\u001b[39m\u001b[38;5;124m\"\u001b[39m\u001b[38;5;124mpivot_table\u001b[39m\u001b[38;5;124m\"\u001b[39m)\n\u001b[1;32m---> 95\u001b[0m table \u001b[38;5;241m=\u001b[39m \u001b[43m__internal_pivot_table\u001b[49m\u001b[43m(\u001b[49m\n\u001b[0;32m     96\u001b[0m \u001b[43m    \u001b[49m\u001b[43mdata\u001b[49m\u001b[43m,\u001b[49m\n\u001b[0;32m     97\u001b[0m \u001b[43m    \u001b[49m\u001b[43mvalues\u001b[49m\u001b[43m,\u001b[49m\n\u001b[0;32m     98\u001b[0m \u001b[43m    \u001b[49m\u001b[43mindex\u001b[49m\u001b[43m,\u001b[49m\n\u001b[0;32m     99\u001b[0m \u001b[43m    \u001b[49m\u001b[43mcolumns\u001b[49m\u001b[43m,\u001b[49m\n\u001b[0;32m    100\u001b[0m \u001b[43m    \u001b[49m\u001b[43maggfunc\u001b[49m\u001b[43m,\u001b[49m\n\u001b[0;32m    101\u001b[0m \u001b[43m    \u001b[49m\u001b[43mfill_value\u001b[49m\u001b[43m,\u001b[49m\n\u001b[0;32m    102\u001b[0m \u001b[43m    \u001b[49m\u001b[43mmargins\u001b[49m\u001b[43m,\u001b[49m\n\u001b[0;32m    103\u001b[0m \u001b[43m    \u001b[49m\u001b[43mdropna\u001b[49m\u001b[43m,\u001b[49m\n\u001b[0;32m    104\u001b[0m \u001b[43m    \u001b[49m\u001b[43mmargins_name\u001b[49m\u001b[43m,\u001b[49m\n\u001b[0;32m    105\u001b[0m \u001b[43m    \u001b[49m\u001b[43mobserved\u001b[49m\u001b[43m,\u001b[49m\n\u001b[0;32m    106\u001b[0m \u001b[43m    \u001b[49m\u001b[43msort\u001b[49m\u001b[43m,\u001b[49m\n\u001b[0;32m    107\u001b[0m \u001b[43m\u001b[49m\u001b[43m)\u001b[49m\n\u001b[0;32m    108\u001b[0m \u001b[38;5;28;01mreturn\u001b[39;00m table\u001b[38;5;241m.\u001b[39m__finalize__(data, method\u001b[38;5;241m=\u001b[39m\u001b[38;5;124m\"\u001b[39m\u001b[38;5;124mpivot_table\u001b[39m\u001b[38;5;124m\"\u001b[39m)\n",
      "File \u001b[1;32m~\\anaconda3\\lib\\site-packages\\pandas\\core\\reshape\\pivot.py:192\u001b[0m, in \u001b[0;36m__internal_pivot_table\u001b[1;34m(data, values, index, columns, aggfunc, fill_value, margins, dropna, margins_name, observed, sort)\u001b[0m\n\u001b[0;32m    189\u001b[0m table \u001b[38;5;241m=\u001b[39m agged\n\u001b[0;32m    191\u001b[0m \u001b[38;5;66;03m# GH17038, this check should only happen if index is defined (not None)\u001b[39;00m\n\u001b[1;32m--> 192\u001b[0m \u001b[38;5;28;01mif\u001b[39;00m \u001b[43mtable\u001b[49m\u001b[38;5;241;43m.\u001b[39;49m\u001b[43mindex\u001b[49m\u001b[38;5;241m.\u001b[39mnlevels \u001b[38;5;241m>\u001b[39m \u001b[38;5;241m1\u001b[39m \u001b[38;5;129;01mand\u001b[39;00m index:\n\u001b[0;32m    193\u001b[0m     \u001b[38;5;66;03m# Related GH #17123\u001b[39;00m\n\u001b[0;32m    194\u001b[0m     \u001b[38;5;66;03m# If index_names are integers, determine whether the integers refer\u001b[39;00m\n\u001b[0;32m    195\u001b[0m     \u001b[38;5;66;03m# to the level position or name.\u001b[39;00m\n\u001b[0;32m    196\u001b[0m     index_names \u001b[38;5;241m=\u001b[39m agged\u001b[38;5;241m.\u001b[39mindex\u001b[38;5;241m.\u001b[39mnames[: \u001b[38;5;28mlen\u001b[39m(index)]\n\u001b[0;32m    197\u001b[0m     to_unstack \u001b[38;5;241m=\u001b[39m []\n",
      "File \u001b[1;32m~\\anaconda3\\lib\\site-packages\\pandas\\core\\groupby\\groupby.py:904\u001b[0m, in \u001b[0;36mGroupBy.__getattr__\u001b[1;34m(self, attr)\u001b[0m\n\u001b[0;32m    901\u001b[0m \u001b[38;5;28;01mif\u001b[39;00m attr \u001b[38;5;129;01min\u001b[39;00m \u001b[38;5;28mself\u001b[39m\u001b[38;5;241m.\u001b[39mobj:\n\u001b[0;32m    902\u001b[0m     \u001b[38;5;28;01mreturn\u001b[39;00m \u001b[38;5;28mself\u001b[39m[attr]\n\u001b[1;32m--> 904\u001b[0m \u001b[38;5;28;01mraise\u001b[39;00m \u001b[38;5;167;01mAttributeError\u001b[39;00m(\n\u001b[0;32m    905\u001b[0m     \u001b[38;5;124mf\u001b[39m\u001b[38;5;124m\"\u001b[39m\u001b[38;5;124m'\u001b[39m\u001b[38;5;132;01m{\u001b[39;00m\u001b[38;5;28mtype\u001b[39m(\u001b[38;5;28mself\u001b[39m)\u001b[38;5;241m.\u001b[39m\u001b[38;5;18m__name__\u001b[39m\u001b[38;5;132;01m}\u001b[39;00m\u001b[38;5;124m'\u001b[39m\u001b[38;5;124m object has no attribute \u001b[39m\u001b[38;5;124m'\u001b[39m\u001b[38;5;132;01m{\u001b[39;00mattr\u001b[38;5;132;01m}\u001b[39;00m\u001b[38;5;124m'\u001b[39m\u001b[38;5;124m\"\u001b[39m\n\u001b[0;32m    906\u001b[0m )\n",
      "\u001b[1;31mAttributeError\u001b[0m: 'SeriesGroupBy' object has no attribute 'index'"
     ]
    }
   ],
   "source": [
    "import scikitplot as skplt\n",
    "from imblearn.over_sampling import SMOTE\n",
    "from sklearn import model_selection\n",
    "from sklearn.feature_selection import SelectKBest, chi2\n",
    "from sklearn.ensemble import RandomForestClassifier, VotingClassifier\n",
    "from sklearn.svm import SVC\n",
    "from sklearn.model_selection import train_test_split, GridSearchCV, validation_curve, learning_curve, cross_validate, StratifiedShuffleSplit,StratifiedKFold\n",
    "from sklearn.metrics import classification_report, confusion_matrix, accuracy_score\n",
    "from sklearn.datasets import load_digits\n",
    "import matplotlib.pyplot as plt\n",
    "import sklearn\n",
    "import pandas as pd\n",
    "import numpy as np\n",
    "import sys\n",
    "from collections import Counter\n",
    "\n",
    "np.set_printoptions(suppress=True, threshold=sys.maxsize)\n",
    "plt.style.use('ggplot')\n",
    "# Using panda.io to read the dataset\n",
    "unprocessed_data_X = pd.read_csv(\"heartdisease300.csv\")\n",
    "unprocessed_data_y = unprocessed_data_X.loc[:, \"target\"]\n",
    "unprocessed_data_X.pivot_table(index=unprocessed_data_y, aggfunc='age').plot(kind='bar')\n"
   ]
  },
  {
   "cell_type": "code",
   "execution_count": 2,
   "metadata": {},
   "outputs": [],
   "source": [
    "# Feature Selection using a chi-squared scoring function\n",
    "# https://scikit-learn.org/stable/modules/generated/sklearn.feature_selection.SelectKBest.html\n",
    "feature_selection = SelectKBest(chi2, k=13)\n",
    "feature_selection_data = feature_selection.fit_transform(\n",
    "    unprocessed_data_X, unprocessed_data_y)\n",
    "processed_data_X = feature_selection_data[:, :-1]\n",
    "processed_data_Y = feature_selection_data[:, 12]\n",
    "# Hyperparameters: score_func - chi2\n",
    "# This feature had the lowest chi2 scores and will be excluded:\n",
    "# fasting blood sugar > 120 mg/dl"
   ]
  },
  {
   "cell_type": "code",
   "execution_count": 3,
   "metadata": {},
   "outputs": [],
   "source": [
    "# SMOTE\n",
    "# https://imbalanced-learn.org/stable/references/generated/imblearn.over_sampling.SMOTE.html\n",
    "smote_processed_data_X, smote_processed_data_Y = SMOTE(\n",
    "    k_neighbors=10, random_state=2).fit_resample(processed_data_X, processed_data_Y)\n",
    "# Hyperparameters: sampling_strategy - auto = resampling only the minority class\n",
    "# k_neighbors - default = 5\n",
    "# ??? new entries were created by SMOTE to oversample the minority"
   ]
  },
  {
   "cell_type": "code",
   "execution_count": 10,
   "metadata": {},
   "outputs": [
    {
     "name": "stdout",
     "output_type": "stream",
     "text": [
      "Shape of X: (212, 12)\n",
      "Shape of y: (91, 12)\n"
     ]
    }
   ],
   "source": [
    "# 70%/30% Training Test Split\n",
    "processed_train_X, processed_test_X, processed_train_Y, processed_test_Y = train_test_split(\n",
    "    processed_data_X, processed_data_Y, test_size=0.3, random_state=1)\n",
    "smote_train_X, smote_test_X, smote_train_Y, smote_test_Y = train_test_split(\n",
    "    smote_processed_data_X, smote_processed_data_Y, test_size=0.3, random_state=1)\n",
    "# Hyperparameters: test_size - 30\n",
    "# train_size - 70\n",
    "# shuffle default = True\n",
    "\n"
   ]
  },
  {
   "cell_type": "code",
   "execution_count": 5,
   "metadata": {},
   "outputs": [
    {
     "data": {
      "text/plain": [
       "<AxesSubplot:xlabel='3', ylabel='4'>"
      ]
     },
     "execution_count": 5,
     "metadata": {},
     "output_type": "execute_result"
    },
    {
     "data": {
      "image/png": "[encoded data removed]",
      "text/plain": [
       "<Figure size 432x288 with 1 Axes>"
      ]
     },
     "metadata": {},
     "output_type": "display_data"
    },
    {
     "data": {
      "image/png": "[encoded data removed]",
      "text/plain": [
       "<Figure size 432x288 with 1 Axes>"
      ]
     },
     "metadata": {},
     "output_type": "display_data"
    }
   ],
   "source": [
    "# Scatterplot for unprocessed data\n",
    "# print(unprocessed_data_X)\n",
    "g1 = unprocessed_data_X.loc[:, \"age\":\"target\"]\n",
    "plt.scatter('trestbps', 'chol', data=g1)\n",
    "\n",
    "# Scatterplot for SMOTE treated data\n",
    "# Convert SMOTE-treated data numpy array to DataFrame to use .loc\n",
    "smoteDF = pd.DataFrame(smote_processed_data_X)\n",
    "smoteDF.to_csv(\"SMOTEData.csv\")\n",
    "\n",
    "# print(smoteDF)\n",
    "g2 = smoteDF.loc[1025:1051, :]  # New data from SMOTE\n",
    "# print (g2)\n",
    "smoteDF.plot(x=3, y=4, kind='scatter')\n",
    "\n",
    "\n"
   ]
  },
  {
   "cell_type": "code",
   "execution_count": 6,
   "metadata": {},
   "outputs": [
    {
     "name": "stdout",
     "output_type": "stream",
     "text": [
      "---RANDOM FOREST---\n",
      "Random Forest w/ SMOTE Training Set Accuracy: 1.0\n",
      "Random Forest w/ SMOTE Test Set Accuracy: 0.8181818181818182\n",
      "Random Forest w/o SMOTE Training Accuracy: 0.9737991266375546\n",
      "Random Forest w/o SMOTE Test Set Accuracy: 0.8681318681318682\n",
      "\n",
      "\n",
      "Random Forest w/ SMOTE Classification Report\n",
      "              precision    recall  f1-score   support\n",
      "\n",
      "         0.0       0.94      0.92      0.93        53\n",
      "         1.0       0.91      0.93      0.92        46\n",
      "\n",
      "    accuracy                           0.93        99\n",
      "   macro avg       0.93      0.93      0.93        99\n",
      "weighted avg       0.93      0.93      0.93        99\n",
      "\n",
      "Random Forest w/o SMOTE Classification Report\n",
      "              precision    recall  f1-score   support\n",
      "\n",
      "         0.0       0.85      0.92      0.88        49\n",
      "         1.0       0.89      0.81      0.85        42\n",
      "\n",
      "    accuracy                           0.87        91\n",
      "   macro avg       0.87      0.86      0.87        91\n",
      "weighted avg       0.87      0.87      0.87        91\n",
      "\n"
     ]
    }
   ],
   "source": [
    "# RF\n",
    "# https://scikit-learn.org/stable/modules/generated/sklearn.ensemble.RandomForestClassifier.html\n",
    "\n",
    "random_forest = RandomForestClassifier(bootstrap=True, max_depth=None, max_leaf_nodes=None, min_impurity_decrease=0.0, min_weight_fraction_leaf=0.0,\n",
    "                                       n_estimators=50, criterion='log_loss', max_features='log2', min_samples_split=2, min_samples_leaf=1, random_state=50)\n",
    "\n",
    "# RF w/ SMOTE\n",
    "random_forest_smote = random_forest.fit(smote_train_X, smote_train_Y)\n",
    "\n",
    "print('---RANDOM FOREST---')\n",
    "print('Random Forest w/ SMOTE Training Set Accuracy: ', end=\"\")\n",
    "print(random_forest_smote.score(smote_train_X, smote_train_Y))\n",
    "print('Random Forest w/ SMOTE Test Set Accuracy: ', end=\"\")\n",
    "print(random_forest_smote.score(smote_test_X, smote_test_Y))\n",
    "\n",
    "# RF w/o SMOTE\n",
    "random_forest_processed = random_forest.fit( processed_train_X, processed_train_Y)\n",
    "print('Random Forest w/o SMOTE Training Accuracy: ', end=\"\")\n",
    "print(random_forest_processed.score(smote_train_X, smote_train_Y))\n",
    "print('Random Forest w/o SMOTE Test Set Accuracy: ', end=\"\")\n",
    "print(random_forest_processed.score(processed_test_X, processed_test_Y))\n",
    "\n",
    "random_forest_smote_predictions = random_forest_smote.predict(smote_test_X)\n",
    "random_forest_processed_predictions = random_forest_processed.predict(processed_test_X)\n",
    "\n",
    "# Paste RF Confusion Matrix Graph Code Here\n",
    "\n",
    "# Scores for Statistics\n",
    "\n",
    "print(\"\\n\")\n",
    "print(\"Random Forest w/ SMOTE Classification Report\")\n",
    "print(classification_report(smote_test_Y, random_forest_smote_predictions))\n",
    "print(\"Random Forest w/o SMOTE Classification Report\")\n",
    "print(classification_report(processed_test_Y, random_forest_processed_predictions))\n",
    "\n",
    "# Paste RF Learning Curve Graph Code Here"
   ]
  },
  {
   "cell_type": "code",
   "execution_count": 7,
   "metadata": {},
   "outputs": [],
   "source": [
    "#gridsearch for SVM\n",
    "Cs = [1, 10 ,100, 1000, 10000]\n",
    "gammas = [0.001, 0.01, 0.0001, 0.00001,0.000001]\n",
    "param_grid = {'C': Cs, 'gamma' : gammas}\n",
    "svm = GridSearchCV(SVC(kernel='rbf', probability=True), param_grid, cv=10)"
   ]
  },
  {
   "cell_type": "code",
   "execution_count": 8,
   "metadata": {
    "scrolled": true
   },
   "outputs": [
    {
     "name": "stdout",
     "output_type": "stream",
     "text": [
      "---SUPPORT VECTOR MACHINE---\n",
      "Accuracy of Support Vector Classifier w/SMOTE: 80.8080808080808 \n",
      "\n",
      "Accuracy of Support Vector Classifier w/o SMOTE: 86.81318681318682 \n",
      "\n",
      "\n",
      "confusion matrix\n",
      "\n",
      "\n",
      "without smote\n",
      "\n",
      "\n",
      "[[46  3]\n",
      " [ 9 33]]\n",
      "\n",
      "\n",
      "with smote\n",
      "\n",
      "\n",
      "[[41 12]\n",
      " [ 7 39]]\n",
      "\n",
      "\n",
      "without smote\n",
      "              precision    recall  f1-score   support\n",
      "\n",
      "         0.0       0.84      0.94      0.88        49\n",
      "         1.0       0.92      0.79      0.85        42\n",
      "\n",
      "    accuracy                           0.87        91\n",
      "   macro avg       0.88      0.86      0.87        91\n",
      "weighted avg       0.87      0.87      0.87        91\n",
      "\n",
      "with smote\n",
      "              precision    recall  f1-score   support\n",
      "\n",
      "         0.0       0.85      0.77      0.81        53\n",
      "         1.0       0.76      0.85      0.80        46\n",
      "\n",
      "    accuracy                           0.81        99\n",
      "   macro avg       0.81      0.81      0.81        99\n",
      "weighted avg       0.81      0.81      0.81        99\n",
      "\n"
     ]
    }
   ],
   "source": [
    "#SVM\n",
    "# SVM w/ SMOTE\n",
    "svm_smote=svm.fit(smote_train_X, smote_train_Y)\n",
    "svm_predicted_smote = svm_smote.predict(smote_test_X)\n",
    "svmSmote_acc_score = accuracy_score(smote_test_Y, svm_predicted_smote)\n",
    "print('---SUPPORT VECTOR MACHINE---')\n",
    "# print('SVM w/ SMOTE Test Set Accuracy: ', end=\"\")\n",
    "# print(svm_smote.score(smote_test_X, smote_test_Y))\n",
    "# print('SVM w/ SMOTE Training Set Accuracy: ', end=\"\")\n",
    "# print(svm_smote.score(smote_train_X, smote_train_Y))\n",
    "print(\"Accuracy of Support Vector Classifier w/SMOTE:\",svmSmote_acc_score*100,'\\n')\n",
    "\n",
    "# SVM w/o SMOTE\n",
    "svm_nosmote = svm.fit(processed_train_X, processed_train_Y)\n",
    "svm_predicted_nosmote = svm_nosmote.predict(processed_test_X)\n",
    "svmNoSmote_acc_score = accuracy_score(processed_test_Y, svm_predicted_nosmote)\n",
    "# print('SVM w/o SMOTE Test Set Accuracy: ', end=\"\")\n",
    "# print(svm_nosmote.score(processed_test_X, processed_test_Y))\n",
    "# print('SVM w/o SMOTE Training Set Accuracy: ', end=\"\")\n",
    "# print(svm_nosmote.score(processed_train_X, processed_train_Y))\n",
    "print(\"Accuracy of Support Vector Classifier w/o SMOTE:\",svmNoSmote_acc_score*100,'\\n')\n",
    "\n",
    "print()\n",
    "\n",
    "#confusion matrix\n",
    "print(\"confusion matrix\")\n",
    "print(\"\\n\")\n",
    "print(\"without smote\")\n",
    "print(\"\\n\")\n",
    "svc_conf_matrix_nosmote = confusion_matrix(processed_test_Y,svm_predicted_nosmote)\n",
    "print(svc_conf_matrix_nosmote)\n",
    "print(\"\\n\")\n",
    "print(\"with smote\")\n",
    "print(\"\\n\")\n",
    "svc_conf_matrix_smote = confusion_matrix(smote_test_Y,svm_predicted_smote)\n",
    "print(svc_conf_matrix_smote)\n",
    "\n",
    "#scores for stat\n",
    "print(\"\\n\")\n",
    "print(\"without smote\")\n",
    "print(classification_report(processed_test_Y,svm_predicted_nosmote))\n",
    "print(\"with smote\")\n",
    "print(classification_report(smote_test_Y,svm_predicted_smote))\n",
    "\n"
   ]
  },
  {
   "cell_type": "code",
   "execution_count": null,
   "metadata": {},
   "outputs": [],
   "source": []
  },
  {
   "cell_type": "code",
   "execution_count": null,
   "metadata": {},
   "outputs": [
    {
     "name": "stdout",
     "output_type": "stream",
     "text": [
      "\n",
      "Validation accuracy for Ensembling w/ SMOTE: 0.7978947368421052\n",
      "Best parameters for Ensembling + SMOTE: {'voting': 'soft', 'weights': (1, 1)}\n"
     ]
    }
   ],
   "source": [
    "#TODO: MV\n",
    "\n",
    "# estimators for ensembling MV\n",
    "estimators = [('RandomForest', random_forest), ('SVM', svm)]\n",
    "ensemble_smote = VotingClassifier(estimators, voting='hard', weights=[\n",
    "                                  1, 1])  # hard voting, because we are doing MV\n",
    "ensemble_smote.fit(smote_test_X, smote_test_Y)\n",
    "\n",
    "results_smote = model_selection.cross_val_score(\n",
    "    ensemble_smote, smote_test_X, smote_test_Y, scoring='accuracy')\n",
    "print()\n",
    "print(\"Validation accuracy for Ensembling w/ SMOTE: \", end=\"\")\n",
    "print(results_smote.mean())\n",
    "\n",
    "# # TODO: Adjust MV Hyperparameters\n",
    "# Exhaustive Grid Search with Cross Validation for Optimal Hyperparameters\n",
    "\n",
    "params = {'voting': ['soft', 'hard'],\n",
    "          'weights': [(1, 1)]}\n",
    "\n",
    "grid_smote = GridSearchCV(estimator=ensemble_smote, param_grid=params, cv=2)\n",
    "\n",
    "grid_smote.fit(smote_train_X, smote_train_Y)\n",
    "print(\"Best parameters for Ensembling + SMOTE: \", end=\"\")\n",
    "print(grid_smote.best_params_)\n",
    "\n",
    "#{'voting': 'hard', 'weights': (1, 1)}\n",
    "\n",
    "# validation graph\n",
    "param_range = np.arange(0, 10, 1, dtype=int)\n",
    "\n",
    "train_scores, test_scores = validation_curve(\n",
    "    ensemble_smote,\n",
    "    smote_train_X,\n",
    "    smote_train_Y,\n",
    "    param_name=\"n_jobs\",\n",
    "    param_range=param_range,\n",
    ")\n",
    "\n",
    "train_scores_mean = np.mean(train_scores, axis=1)\n",
    "test_scores_mean = np.mean(test_scores, axis=1)\n",
    "\n",
    "plt.plot(param_range, train_scores_mean,\n",
    "         label=\"njobs_train\")\n",
    "plt.plot(param_range, test_scores_mean, label=\"njobs_validation\")\n",
    "plt.title(\"MV SMOTE-treated Validation Curves\")\n",
    "plt.xlabel(\"Hyperparameter Value\")\n",
    "plt.ylabel(\"Accuracy\")\n",
    "\n",
    "plt.legend()\n",
    "plt.show()\n",
    "\n",
    "ensemble_proc = VotingClassifier(estimators, voting='hard', weights=[\n",
    "                                 1, 1])  # hard voting, because we are doing MV\n",
    "ensemble_proc.fit(processed_test_X, processed_test_Y)\n",
    "\n",
    "results_proc = model_selection.cross_val_score(\n",
    "    ensemble_proc, processed_test_X, processed_test_Y, scoring='accuracy')\n",
    "print()\n",
    "print(\"Validation accuracy for Ensembling w/o SMOTE: \", end=\"\")\n",
    "print(results_proc.mean())\n",
    "\n",
    "\n",
    "# # TODO: Adjust MV Hyperparameters\n",
    "# Exhaustive Grid Search with Cross Validation for Optimal Hyperparameters\n",
    "params = {'voting': ['soft', 'hard'],\n",
    "          'weights': [(1, 1)]}\n",
    "\n",
    "grid_proc = GridSearchCV(estimator=ensemble_proc, param_grid=params, cv=2)\n",
    "\n",
    "grid_proc.fit(processed_train_X, processed_train_Y)\n",
    "print(\"Best parameters for Ensembling w/o SMOTE: \", end=\"\")\n",
    "print(grid_proc.best_params_)\n",
    "\n",
    "#{'voting': 'hard', 'weights': (1, 1)}\n",
    "\n",
    "param_range = np.arange(1, 10, 1, dtype=int)\n",
    "train_scores, test_scores = validation_curve(\n",
    "    ensemble_proc,\n",
    "    processed_test_X,\n",
    "    processed_test_Y,\n",
    "    param_name=\"n_jobs\",\n",
    "    param_range=param_range,\n",
    ")\n",
    "train_scores_mean = np.mean(train_scores, axis=1)\n",
    "test_scores_mean = np.mean(test_scores, axis=1)\n",
    "\n",
    "plt.plot(param_range, train_scores_mean, label=\"train\", color=\"blue\")\n",
    "plt.plot(param_range, test_scores_mean, label=\"test\", color=\"red\")\n",
    "\n",
    "plt.legend()\n",
    "plt.show()\n",
    "y_pred = ensemble_proc.predict(processed_test_X)\n",
    "print(classification_report(processed_test_Y, y_pred))\n",
    "\n",
    "skplt.metrics.plot_confusion_matrix(processed_test_Y, y_pred, figsize=(10, 8))\n",
    "plt.show()\n",
    "# confusion matrix\n",
    "print(\"confusion matrix\")\n",
    "print(\"\\n\")\n",
    "print(\"without smote\")\n",
    "print(\"\\n\")\n",
    "y_proc_pred = ensemble_proc.predict(processed_test_X)\n",
    "ensemble_matrix_proc = confusion_matrix(processed_test_Y, y_proc_pred)\n",
    "print(ensemble_matrix_proc)\n",
    "print(\"\\n\")\n",
    "print(\"with smote\")\n",
    "print(\"\\n\")\n",
    "y_smote_pred = ensemble_smote.predict(smote_test_X)\n",
    "ensemble_matrix_smote = confusion_matrix(smote_test_Y, y_smote_pred)\n",
    "print(ensemble_matrix_smote)\n",
    "\n",
    "# scores for stat\n",
    "print(\"\\n\")\n",
    "print(\"without smote\")\n",
    "print(classification_report(processed_test_Y, y_proc_pred))\n",
    "print(\"with smote\")\n",
    "print(classification_report(smote_test_Y, y_smote_pred))\n",
    "\n",
    "# # https://scikit-learn.org/stable/modules/generated/sklearn.ensemble.VotingClassifier.html\n",
    "# # https://scikit-learn.org/stable/modules/generated/sklearn.model_selection.GridSearchCV.html\n",
    "# # Refer to MV documentation for possible parameter values\n"
   ]
  },
  {
   "cell_type": "code",
   "execution_count": null,
   "metadata": {},
   "outputs": [],
   "source": []
  }
 ],
 "metadata": {
  "kernelspec": {
   "display_name": "Python 3 (ipykernel)",
   "language": "python",
   "name": "python3"
  },
  "language_info": {
   "codemirror_mode": {
    "name": "ipython",
    "version": 3
   },
   "file_extension": ".py",
   "mimetype": "text/x-python",
   "name": "python",
   "nbconvert_exporter": "python",
   "pygments_lexer": "ipython3",
   "version": "3.9.12"
  },
  "vscode": {
   "interpreter": {
    "hash": "3a8b1c9b033c5a7b8c70713dfcf1da1fe7c5eaca03d0934dcb7f51e9bd062251"
   }
  }
 },
 "nbformat": 4,
 "nbformat_minor": 4
}
