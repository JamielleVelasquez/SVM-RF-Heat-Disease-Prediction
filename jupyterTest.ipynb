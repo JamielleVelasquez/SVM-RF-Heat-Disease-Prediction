{
 "cells": [
  {
   "cell_type": "code",
   "execution_count": 1,
   "metadata": {},
   "outputs": [],
   "source": [
    "import scikitplot as skplt\n",
    "from imblearn.over_sampling import SMOTE\n",
    "from sklearn import model_selection\n",
    "from sklearn.feature_selection import SelectKBest, chi2\n",
    "from sklearn.ensemble import RandomForestClassifier, VotingClassifier\n",
    "from sklearn.svm import SVC\n",
    "from sklearn.model_selection import train_test_split, GridSearchCV, validation_curve, learning_curve, cross_validate, StratifiedShuffleSplit\n",
    "from sklearn.metrics import classification_report, confusion_matrix, accuracy_score\n",
    "from sklearn.datasets import load_digits\n",
    "import matplotlib.pyplot as plt\n",
    "\n",
    "import pandas as pd\n",
    "import numpy as np\n",
    "import sys\n",
    "np.set_printoptions(suppress=True, threshold=sys.maxsize)\n",
    "plt.style.use('ggplot')\n",
    "# Using panda.io to read the dataset\n",
    "unprocessed_data_X = pd.read_csv(\"heartdisease300.csv\")\n",
    "unprocessed_data_y = unprocessed_data_X.loc[:, \"target\"]"
   ]
  },
  {
   "cell_type": "code",
   "execution_count": 2,
   "metadata": {},
   "outputs": [],
   "source": [
    "# Feature Selection using a chi-squared scoring function\n",
    "# https://scikit-learn.org/stable/modules/generated/sklearn.feature_selection.SelectKBest.html\n",
    "feature_selection = SelectKBest(chi2, k=13)\n",
    "feature_selection_data = feature_selection.fit_transform(\n",
    "    unprocessed_data_X, unprocessed_data_y)\n",
    "processed_data_X = feature_selection_data[:, :-1]\n",
    "processed_data_Y = feature_selection_data[:, 12]\n",
    "# Hyperparameters: score_func - chi2\n",
    "# This feature had the lowest chi2 scores and will be excluded:\n",
    "# fasting blood sugar > 120 mg/dl"
   ]
  },
  {
   "cell_type": "code",
   "execution_count": 3,
   "metadata": {},
   "outputs": [],
   "source": [
    "# SMOTE\n",
    "# https://imbalanced-learn.org/stable/references/generated/imblearn.over_sampling.SMOTE.html\n",
    "smote_processed_data_X, smote_processed_data_Y = SMOTE(\n",
    ").fit_resample(processed_data_X, processed_data_Y)\n",
    "# Hyperparameters: sampling_strategy - auto = resampling only the minority class\n",
    "# k_neighbors - default = 5\n",
    "# ??? new entries were created by SMOTE to oversample the minority"
   ]
  },
  {
   "cell_type": "code",
   "execution_count": 4,
   "metadata": {},
   "outputs": [],
   "source": [
    "# 70%/30% Training Test Split\n",
    "processed_train_X, processed_test_X, processed_train_Y, processed_test_Y = train_test_split(\n",
    "    processed_data_X, processed_data_Y, test_size=0.3, random_state=1)\n",
    "smote_train_X, smote_test_X, smote_train_Y, smote_test_Y = train_test_split(\n",
    "    smote_processed_data_X, smote_processed_data_Y, test_size=0.3, random_state=1)\n",
    "# Hyperparameters: test_size - 30\n",
    "# train_size - 70\n",
    "# shuffle default = True"
   ]
  },
  {
   "cell_type": "code",
   "execution_count": 5,
   "metadata": {},
   "outputs": [
    {
     "data": {
      "text/plain": [
       "<AxesSubplot:xlabel='3', ylabel='4'>"
      ]
     },
     "execution_count": 5,
     "metadata": {},
     "output_type": "execute_result"
    },
    {
     "data": {
      "image/png": "[encoded data removed]",
      "text/plain": [
       "<Figure size 432x288 with 1 Axes>"
      ]
     },
     "metadata": {
      "needs_background": "light"
     },
     "output_type": "display_data"
    },
    {
     "data": {
      "image/png": "[encoded data removed]",
      "text/plain": [
       "<Figure size 432x288 with 1 Axes>"
      ]
     },
     "metadata": {
      "needs_background": "light"
     },
     "output_type": "display_data"
    }
   ],
   "source": [
    "# Scatterplot for unprocessed data\n",
    "# print(unprocessed_data_X)\n",
    "g1 = unprocessed_data_X.loc[:, \"age\":\"target\"]\n",
    "plt.scatter('trestbps', 'chol', data=g1)\n",
    "\n",
    "# Scatterplot for SMOTE treated data\n",
    "# Convert SMOTE-treated data numpy array to DataFrame to use .loc\n",
    "smoteDF = pd.DataFrame(smote_processed_data_X)\n",
    "smoteDF.to_csv(\"SMOTEData.csv\")\n",
    "\n",
    "# print(smoteDF)\n",
    "g2 = smoteDF.loc[1025:1051, :]  # New data from SMOTE\n",
    "# print (g2)\n",
    "smoteDF.plot(x=3, y=4, kind='scatter')"
   ]
  },
  {
   "cell_type": "code",
   "execution_count": 6,
   "metadata": {},
   "outputs": [
    {
     "name": "stdout",
     "output_type": "stream",
     "text": [
      "---RANDOM FOREST---\n",
      "Random Forest w/ SMOTE Training Set Accuracy: 0.8385507246376811\n",
      "Random Forest w/ SMOTE Test Set Accuracy: 0.8080808080808081\n",
      "Random Forest w/o SMOTE Training Accuracy: 0.7970099667774087\n",
      "Random Forest w/o SMOTE Test Set Accuracy: 0.8351648351648352\n",
      "confusion matrix\n",
      "\n",
      "\n",
      "without smote\n",
      "\n",
      "\n",
      "[[43  6]\n",
      " [ 9 33]]\n",
      "\n",
      "\n",
      "with smote\n",
      "\n",
      "\n",
      "[[47  6]\n",
      " [ 4 42]]\n",
      "\n",
      "\n",
      "without smote\n",
      "              precision    recall  f1-score   support\n",
      "\n",
      "         0.0       0.83      0.88      0.85        49\n",
      "         1.0       0.85      0.79      0.81        42\n",
      "\n",
      "    accuracy                           0.84        91\n",
      "   macro avg       0.84      0.83      0.83        91\n",
      "weighted avg       0.84      0.84      0.83        91\n",
      "\n",
      "with smote\n",
      "              precision    recall  f1-score   support\n",
      "\n",
      "         0.0       0.92      0.89      0.90        53\n",
      "         1.0       0.88      0.91      0.89        46\n",
      "\n",
      "    accuracy                           0.90        99\n",
      "   macro avg       0.90      0.90      0.90        99\n",
      "weighted avg       0.90      0.90      0.90        99\n",
      "\n"
     ]
    }
   ],
   "source": [
    "# RF\n",
    "# https://scikit-learn.org/stable/modules/generated/sklearn.ensemble.RandomForestClassifier.html\n",
    "\n",
    "random_forest = RandomForestClassifier()\n",
    "\n",
    "# RF w/ SMOTE\n",
    "random_forest_smote = random_forest.fit(smote_train_X, smote_train_Y)\n",
    "random_forest_smote_cv = cross_validate(\n",
    "    random_forest_smote, smote_train_X, smote_train_Y)\n",
    "print('---RANDOM FOREST---')\n",
    "print('Random Forest w/ SMOTE Training Set Accuracy: ', end=\"\")\n",
    "print(np.mean(random_forest_smote_cv['test_score']))\n",
    "print('Random Forest w/ SMOTE Test Set Accuracy: ', end=\"\")\n",
    "print(random_forest_smote.score(smote_test_X, smote_test_Y))\n",
    "\n",
    "# RF w/o SMOTE\n",
    "random_forest_processed = random_forest.fit(\n",
    "    processed_train_X, processed_train_Y)\n",
    "random_forest_processed_cv = cross_validate(\n",
    "    random_forest_processed, processed_train_X, processed_train_Y)\n",
    "print('Random Forest w/o SMOTE Training Accuracy: ', end=\"\")\n",
    "print(np.mean(random_forest_processed_cv['test_score']))\n",
    "print('Random Forest w/o SMOTE Test Set Accuracy: ', end=\"\")\n",
    "print(random_forest_processed.score(processed_test_X, processed_test_Y))\n",
    "\n",
    "rf_predicted_nosmote = random_forest_processed.predict(processed_test_X)\n",
    "rf_predicted_smote = random_forest_smote.predict(smote_test_X)\n",
    "\n",
    "# confusion matrix\n",
    "print(\"confusion matrix\")\n",
    "print(\"\\n\")\n",
    "print(\"without smote\")\n",
    "print(\"\\n\")\n",
    "rf_conf_matrix_nosmote = confusion_matrix(\n",
    "    processed_test_Y, rf_predicted_nosmote)\n",
    "print(rf_conf_matrix_nosmote)\n",
    "print(\"\\n\")\n",
    "print(\"with smote\")\n",
    "print(\"\\n\")\n",
    "r_conf_matrix_smote = confusion_matrix(smote_test_Y, rf_predicted_smote)\n",
    "print(r_conf_matrix_smote)\n",
    "\n",
    "# scores for stat\n",
    "print(\"\\n\")\n",
    "print(\"without smote\")\n",
    "print(classification_report(processed_test_Y, rf_predicted_nosmote))\n",
    "print(\"with smote\")\n",
    "print(classification_report(smote_test_Y, rf_predicted_smote))"
   ]
  },
  {
   "cell_type": "code",
   "execution_count": 7,
   "metadata": {},
   "outputs": [
    {
     "name": "stdout",
     "output_type": "stream",
     "text": [
      "The best parameters are {'C': 10000.0, 'gamma': 1e-05} with a score of 1.00\n"
     ]
    }
   ],
   "source": [
    "#Grid Search\n",
    "C_range = np.logspace(-2, 10, 13)\n",
    "gamma_range = np.logspace(-9, 3, 13)\n",
    "param_grid = dict(gamma=gamma_range, C=C_range)\n",
    "cv = StratifiedShuffleSplit(n_splits=5, test_size=0.2, random_state=42)\n",
    "grid = GridSearchCV(SVC(), param_grid=param_grid, cv=cv)\n",
    "grid.fit(unprocessed_data_X, unprocessed_data_y)\n",
    "\n",
    "print(\n",
    "    \"The best parameters are %s with a score of %0.2f\"\n",
    "    % (grid.best_params_, grid.best_score_)\n",
    ")\n"
   ]
  },
  {
   "cell_type": "code",
   "execution_count": 8,
   "metadata": {
    "scrolled": true
   },
   "outputs": [
    {
     "name": "stdout",
     "output_type": "stream",
     "text": [
      "---SUPPORT VECTOR MACHINE---\n",
      "SVM w/ SMOTE Test Set Accuracy: 0.7878787878787878\n",
      "SVM w/ SMOTE Training Set Accuracy: 0.868995633187773\n",
      "SVM w/o SMOTE Test Set Accuracy: 0.8791208791208791\n",
      "SVM w/o SMOTE Training Set Accuracy: 0.8490566037735849\n",
      "\n",
      "confusion matrix\n",
      "\n",
      "\n",
      "without smote\n",
      "\n",
      "\n",
      "[[45  4]\n",
      " [ 7 35]]\n",
      "\n",
      "\n",
      "with smote\n",
      "\n",
      "\n",
      "[[38 15]\n",
      " [ 6 40]]\n",
      "\n",
      "\n",
      "without smote\n",
      "              precision    recall  f1-score   support\n",
      "\n",
      "         0.0       0.87      0.92      0.89        49\n",
      "         1.0       0.90      0.83      0.86        42\n",
      "\n",
      "    accuracy                           0.88        91\n",
      "   macro avg       0.88      0.88      0.88        91\n",
      "weighted avg       0.88      0.88      0.88        91\n",
      "\n",
      "with smote\n",
      "              precision    recall  f1-score   support\n",
      "\n",
      "         0.0       0.86      0.72      0.78        53\n",
      "         1.0       0.73      0.87      0.79        46\n",
      "\n",
      "    accuracy                           0.79        99\n",
      "   macro avg       0.80      0.79      0.79        99\n",
      "weighted avg       0.80      0.79      0.79        99\n",
      "\n"
     ]
    }
   ],
   "source": [
    "#SVM\n",
    "\n",
    "svm = SVC(kernel='rbf', gamma=0.00001,C=10000, probability=True)\n",
    "\n",
    "# SVM w/ SMOTE\n",
    "svm_smote=svm.fit(smote_train_X, smote_train_Y)\n",
    "svm_predicted_smote = svm_smote.predict(smote_test_X)\n",
    "print('---SUPPORT VECTOR MACHINE---')\n",
    "print('SVM w/ SMOTE Test Set Accuracy: ', end=\"\")\n",
    "print(svm_smote.score(smote_test_X, smote_test_Y))\n",
    "print('SVM w/ SMOTE Training Set Accuracy: ', end=\"\")\n",
    "print(svm_smote.score(smote_train_X, smote_train_Y))\n",
    "\n",
    "# SVM w/o SMOTE\n",
    "svm_nosmote = svm.fit(processed_data_X, processed_data_Y)\n",
    "svm_predicted_nosmote = svm_nosmote.predict(processed_test_X)\n",
    "\n",
    "print('SVM w/o SMOTE Test Set Accuracy: ', end=\"\")\n",
    "print(svm_nosmote.score(processed_test_X, processed_test_Y))\n",
    "print('SVM w/o SMOTE Training Set Accuracy: ', end=\"\")\n",
    "print(svm_nosmote.score(processed_train_X, processed_train_Y))\n",
    "print()\n",
    "\n",
    "#confusion matrix\n",
    "print(\"confusion matrix\")\n",
    "print(\"\\n\")\n",
    "print(\"without smote\")\n",
    "print(\"\\n\")\n",
    "svc_conf_matrix_nosmote = confusion_matrix(processed_test_Y,svm_predicted_nosmote)\n",
    "print(svc_conf_matrix_nosmote)\n",
    "print(\"\\n\")\n",
    "print(\"with smote\")\n",
    "print(\"\\n\")\n",
    "svc_conf_matrix_smote = confusion_matrix(smote_test_Y,svm_predicted_smote)\n",
    "print(svc_conf_matrix_smote)\n",
    "\n",
    "#scores for stat\n",
    "print(\"\\n\")\n",
    "print(\"without smote\")\n",
    "print(classification_report(processed_test_Y,svm_predicted_nosmote))\n",
    "print(\"with smote\")\n",
    "print(classification_report(smote_test_Y,svm_predicted_smote))\n",
    "\n"
   ]
  },
  {
   "cell_type": "code",
   "execution_count": null,
   "metadata": {},
   "outputs": [],
   "source": []
  },
  {
   "cell_type": "code",
   "execution_count": 9,
   "metadata": {},
   "outputs": [
    {
     "name": "stdout",
     "output_type": "stream",
     "text": [
      "Best parameters for Ensembling + SMOTE: {'voting': 'hard', 'weights': (1, 1)}\n",
      "Score: 0.7913043478260869\n"
     ]
    },
    {
     "data": {
      "image/png": "[encoded data removed]",
      "text/plain": [
       "<Figure size 432x288 with 1 Axes>"
      ]
     },
     "metadata": {
      "needs_background": "light"
     },
     "output_type": "display_data"
    },
    {
     "name": "stdout",
     "output_type": "stream",
     "text": [
      "              precision    recall  f1-score   support\n",
      "\n",
      "         0.0       0.90      1.00      0.95        53\n",
      "         1.0       1.00      0.87      0.93        46\n",
      "\n",
      "    accuracy                           0.94        99\n",
      "   macro avg       0.95      0.93      0.94        99\n",
      "weighted avg       0.95      0.94      0.94        99\n",
      "\n",
      "Validation accuracy for Ensembling w/ SMOTE: 0.7584210526315789\n",
      "\n",
      "Best parameters for Ensembling w/o SMOTE: {'voting': 'soft', 'weights': (1, 1)}\n",
      "Score: 0.813953488372093\n"
     ]
    },
    {
     "data": {
      "image/png": "[encoded data removed]",
      "text/plain": [
       "<Figure size 432x288 with 1 Axes>"
      ]
     },
     "metadata": {
      "needs_background": "light"
     },
     "output_type": "display_data"
    },
    {
     "name": "stdout",
     "output_type": "stream",
     "text": [
      "              precision    recall  f1-score   support\n",
      "\n",
      "         0.0       0.89      1.00      0.94        49\n",
      "         1.0       1.00      0.86      0.92        42\n",
      "\n",
      "    accuracy                           0.93        91\n",
      "   macro avg       0.95      0.93      0.93        91\n",
      "weighted avg       0.94      0.93      0.93        91\n",
      "\n",
      "Validation accuracy for Ensembling w/o SMOTE: 0.8140350877192983\n",
      "confusion matrix\n",
      "\n",
      "\n",
      "without smote\n",
      "\n",
      "\n",
      "[[49  0]\n",
      " [ 6 36]]\n",
      "\n",
      "\n",
      "with smote\n",
      "\n",
      "\n",
      "[[53  0]\n",
      " [ 6 40]]\n",
      "\n",
      "\n",
      "without smote\n",
      "              precision    recall  f1-score   support\n",
      "\n",
      "         0.0       0.89      1.00      0.94        49\n",
      "         1.0       1.00      0.86      0.92        42\n",
      "\n",
      "    accuracy                           0.93        91\n",
      "   macro avg       0.95      0.93      0.93        91\n",
      "weighted avg       0.94      0.93      0.93        91\n",
      "\n",
      "with smote\n",
      "              precision    recall  f1-score   support\n",
      "\n",
      "         0.0       0.90      1.00      0.95        53\n",
      "         1.0       1.00      0.87      0.93        46\n",
      "\n",
      "    accuracy                           0.94        99\n",
      "   macro avg       0.95      0.93      0.94        99\n",
      "weighted avg       0.95      0.94      0.94        99\n",
      "\n"
     ]
    }
   ],
   "source": [
    "#TODO: MV\n",
    "\n",
    "# estimators for ensembling MV\n",
    "estimators = [('RandomForest', random_forest), ('SVM', svm)]\n",
    "ensemble_smote = VotingClassifier(estimators=estimators, voting='hard', weights=[\n",
    "                                  1, 1])  # hard voting, because we are doing MV\n",
    "ensemble_smote.fit(smote_test_X, smote_test_Y)\n",
    "\n",
    "\n",
    "\n",
    "# # TODO: Adjust MV Hyperparameters\n",
    "# Exhaustive Grid Search with Cross Validation for Optimal Hyperparameters\n",
    "\n",
    "params = {'voting': ['soft', 'hard'],\n",
    "          'weights': [(1, 1)]}\n",
    "\n",
    "cv = StratifiedShuffleSplit(n_splits=5, test_size=0.2, random_state=42)\n",
    "grid_smote = GridSearchCV(ensemble_smote, param_grid=params, cv=cv)\n",
    "\n",
    "grid_smote.fit(smote_train_X, smote_train_Y)\n",
    "print(\"Best parameters for Ensembling + SMOTE: \", end=\"\")\n",
    "print(grid_smote.best_params_)\n",
    "print(\"Score: \", end=\"\")\n",
    "print(grid_smote.best_score_)\n",
    "\n",
    "#{'voting': 'hard', 'weights': (1, 1)}\n",
    "\n",
    "# validation graph\n",
    "param_range = np.arange(0, 10, 1, dtype=int)\n",
    "\n",
    "train_scores, test_scores = validation_curve(\n",
    "    ensemble_smote,\n",
    "    smote_train_X,\n",
    "    smote_train_Y,\n",
    "    param_name=\"n_jobs\",\n",
    "    param_range=param_range,\n",
    ")\n",
    "\n",
    "train_scores_mean = np.mean(train_scores, axis=1)\n",
    "test_scores_mean = np.mean(test_scores, axis=1)\n",
    "\n",
    "plt.plot(param_range, train_scores_mean,\n",
    "         label=\"njobs_train\")\n",
    "plt.plot(param_range, test_scores_mean, label=\"njobs_test\")\n",
    "plt.title(\"MV SMOTE-treated Validation Curves\")\n",
    "plt.xlabel(\"Hyperparameter Value\")\n",
    "plt.ylabel(\"Accuracy\")\n",
    "\n",
    "plt.legend()\n",
    "plt.show()\n",
    "y_pred = ensemble_smote.predict(smote_test_X)\n",
    "print(classification_report(smote_test_Y, y_pred))\n",
    "\n",
    "results_smote = model_selection.cross_val_score(\n",
    "    ensemble_smote, smote_test_X, smote_test_Y, scoring='accuracy')\n",
    "\n",
    "print(\"Validation accuracy for Ensembling w/ SMOTE: \", end=\"\")\n",
    "print(results_smote.mean())\n",
    "print()\n",
    "\n",
    "ensemble_proc = VotingClassifier(estimators, voting='hard', weights=[\n",
    "                                 1, 1])  # hard voting, because we are doing MV\n",
    "ensemble_proc.fit(processed_test_X, processed_test_Y)\n",
    "\n",
    "# # TODO: Adjust MV Hyperparameters\n",
    "# Exhaustive Grid Search with Cross Validation for Optimal Hyperparameters\n",
    "params = {'voting': ['soft', 'hard'],\n",
    "          'weights': [(1, 1)]}\n",
    "\n",
    "cv = StratifiedShuffleSplit(n_splits=5, test_size=0.2, random_state=42)\n",
    "grid_proc = GridSearchCV(ensemble_proc, param_grid=params, cv=cv)\n",
    "\n",
    "grid_proc.fit(processed_train_X, processed_train_Y)\n",
    "print(\"Best parameters for Ensembling w/o SMOTE: \", end=\"\")\n",
    "print(grid_proc.best_params_)\n",
    "print(\"Score: \", end=\"\")\n",
    "print(grid_proc.best_score_)\n",
    "\n",
    "#{'voting': 'hard', 'weights': (1, 1)}\n",
    "\n",
    "param_range = np.arange(1, 10, 1, dtype=int)\n",
    "train_scores, test_scores = validation_curve(\n",
    "    ensemble_proc,\n",
    "    processed_test_X,\n",
    "    processed_test_Y,\n",
    "    param_name=\"n_jobs\",\n",
    "    param_range=param_range,\n",
    ")\n",
    "train_scores_mean = np.mean(train_scores, axis=1)\n",
    "test_scores_mean = np.mean(test_scores, axis=1)\n",
    "\n",
    "plt.plot(param_range, train_scores_mean, label=\"njobs_train\")\n",
    "plt.plot(param_range, test_scores_mean, label=\"njobs_test\")\n",
    "\n",
    "plt.legend()\n",
    "plt.show()\n",
    "y_pred = ensemble_proc.predict(processed_test_X)\n",
    "print(classification_report(processed_test_Y, y_pred))\n",
    "\n",
    "results_proc = model_selection.cross_val_score(\n",
    "    ensemble_proc, processed_test_X, processed_test_Y, scoring='accuracy')\n",
    "\n",
    "print(\"Validation accuracy for Ensembling w/o SMOTE: \", end=\"\")\n",
    "print(results_proc.mean())\n",
    "\n",
    "# skplt.metrics.plot_confusion_matrix(processed_test_Y, y_pred, figsize=(10, 8))\n",
    "# plt.show()\n",
    "# confusion matrix\n",
    "print()\n",
    "print(\"confusion matrix\")\n",
    "print(\"\\n\")\n",
    "print(\"without smote\")\n",
    "print(\"\\n\")\n",
    "y_proc_pred = ensemble_proc.predict(processed_test_X)\n",
    "ensemble_matrix_proc = confusion_matrix(processed_test_Y, y_proc_pred)\n",
    "print(ensemble_matrix_proc)\n",
    "print(\"\\n\")\n",
    "print(\"with smote\")\n",
    "print(\"\\n\")\n",
    "y_smote_pred = ensemble_smote.predict(smote_test_X)\n",
    "ensemble_matrix_smote = confusion_matrix(smote_test_Y, y_smote_pred)\n",
    "print(ensemble_matrix_smote)\n",
    "\n",
    "# scores for stat\n",
    "print(\"\\n\")\n",
    "print(\"without smote\")\n",
    "print(classification_report(processed_test_Y, y_proc_pred))\n",
    "print(\"with smote\")\n",
    "print(classification_report(smote_test_Y, y_smote_pred))\n",
    "\n",
    "# # https://scikit-learn.org/stable/modules/generated/sklearn.ensemble.VotingClassifier.html\n",
    "# # https://scikit-learn.org/stable/modules/generated/sklearn.model_selection.GridSearchCV.html\n",
    "# # Refer to MV documentation for possible parameter values\n"
   ]
  },
  {
   "cell_type": "code",
   "execution_count": null,
   "metadata": {},
   "outputs": [],
   "source": []
  }
 ],
 "metadata": {
  "kernelspec": {
   "display_name": "Python 3 (ipykernel)",
   "language": "python",
   "name": "python3"
  },
  "language_info": {
   "codemirror_mode": {
    "name": "ipython",
    "version": 3
   },
   "file_extension": ".py",
   "mimetype": "text/x-python",
   "name": "python",
   "nbconvert_exporter": "python",
   "pygments_lexer": "ipython3",
   "version": "3.9.12"
  },
  "vscode": {
   "interpreter": {
    "hash": "3a8b1c9b033c5a7b8c70713dfcf1da1fe7c5eaca03d0934dcb7f51e9bd062251"
   }
  }
 },
 "nbformat": 4,
 "nbformat_minor": 4
}
